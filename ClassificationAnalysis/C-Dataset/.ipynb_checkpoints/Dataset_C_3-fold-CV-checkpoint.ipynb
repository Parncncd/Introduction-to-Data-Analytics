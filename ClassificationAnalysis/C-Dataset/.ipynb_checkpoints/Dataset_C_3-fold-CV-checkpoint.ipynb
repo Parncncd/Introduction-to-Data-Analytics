{
 "cells": [
  {
   "cell_type": "markdown",
   "id": "4233dc99",
   "metadata": {},
   "source": [
    "# Classification Analysis"
   ]
  },
  {
   "cell_type": "markdown",
   "id": "4e5f144b",
   "metadata": {},
   "source": [
    "*Instructions*\n",
    "จงทำนายค่าจากข้อมูลต่อไปนี้\n",
    "ข้อมูลอยู่ใน google drive (เข้าดูด้วย KMITL Account) https://drive.google.com/drive/u/2/folders/15NgSBbLC9iNCf_fRHZHOm3nuwkzv8fcP\n",
    "\n",
    "ข้อมูลมี 2 ชุด คือ C กับ D\n",
    "\n",
    "ช้อมูลชุด C\n",
    "ไฟล์ C-train.csv เป็นชุดสำหรับ training\n",
    "ไฟล์ C-test.csv เป็นชุดข้อมูลสำหรับ test เพื่อพยากรณ์หาค่า y คือ C_01, C_02, ...., C_10\n",
    "ช้อมูลชุด D\n",
    "ไฟล์ D-train.csv เป็นชุดสำหรับ training\n",
    "ไฟล์ D-test.csv เป็นชุดข้อมูลสำหรับ test เพื่อพยากรณ์หาค่า y คือ D_01, D_02, ...., D_10\n",
    "\n",
    "จากนั้นให้นำผลลัพธ์ที่ทำนายได้ไปกรอกใน Google Form \n",
    "ที่: https://forms.gle/Cdjt4qdizWJozk9r5\n",
    "\n",
    "การให้คะแนน\n",
    "ให้คะแนนตามความถูกต้องของการแบ่งประเภท (correct classification)\n",
    "เนื่องจากมีข้อมูล 2 ชุด ดั้งนั้น จะได้คะแนนที่มากที่สุดจาก C กับ D\n",
    "กล่าวคือ ถ้าได้คะแนนของ C เป็น 2 คะแนน แต่ ได้คะแนนของ D เป็น 8 คะแนน\n",
    "งานชุดนี้จะได้ max(2, 8) คือ 8 คะแนน"
   ]
  },
  {
   "cell_type": "markdown",
   "id": "617800bd",
   "metadata": {},
   "source": [
    "## Dataset C"
   ]
  },
  {
   "cell_type": "code",
   "execution_count": 175,
   "id": "b310142f",
   "metadata": {},
   "outputs": [],
   "source": [
    "import pandas as pd\n",
    "import numpy as np\n",
    "\n",
    "from sklearn.tree import DecisionTreeClassifier\n",
    "from sklearn.linear_model import LogisticRegression\n",
    "\n",
    "from sklearn.naive_bayes import GaussianNB\n",
    "from sklearn.neighbors import KNeighborsClassifier\n",
    "from sklearn.neural_network import MLPClassifier\n",
    "\n",
    "from sklearn.model_selection import KFold\n",
    "\n",
    "from sklearn.metrics import accuracy_score\n",
    "\n",
    "df_OG= pd.read_csv('C-train.csv')"
   ]
  },
  {
   "cell_type": "code",
   "execution_count": 176,
   "id": "33e29fe0",
   "metadata": {},
   "outputs": [
    {
     "data": {
      "text/plain": [
       "array(['A', 'B', 'C'], dtype=object)"
      ]
     },
     "execution_count": 176,
     "metadata": {},
     "output_type": "execute_result"
    }
   ],
   "source": [
    "df_OG.y.unique()"
   ]
  },
  {
   "cell_type": "code",
   "execution_count": 177,
   "id": "937b9e29",
   "metadata": {},
   "outputs": [],
   "source": [
    "df = pd.read_csv('C-train.csv')"
   ]
  },
  {
   "cell_type": "code",
   "execution_count": 178,
   "id": "3699e475",
   "metadata": {},
   "outputs": [
    {
     "name": "stdout",
     "output_type": "stream",
     "text": [
      "    x1   x2   x3   x4   x5  y\n",
      "0 -146 -128  106  275  259  A\n",
      "1  -61  108  -69 -178 -126  B\n",
      "2 -155    4 -187 -197   -9  B\n",
      "3   51  -23   25   44   14  A\n",
      "4  177 -110    2   84   50  C\n",
      "<class 'pandas.core.frame.DataFrame'>\n",
      "RangeIndex: 190 entries, 0 to 189\n",
      "Data columns (total 6 columns):\n",
      " #   Column  Non-Null Count  Dtype \n",
      "---  ------  --------------  ----- \n",
      " 0   x1      190 non-null    int64 \n",
      " 1   x2      190 non-null    int64 \n",
      " 2   x3      190 non-null    int64 \n",
      " 3   x4      190 non-null    int64 \n",
      " 4   x5      190 non-null    int64 \n",
      " 5   y       190 non-null    object\n",
      "dtypes: int64(5), object(1)\n",
      "memory usage: 9.0+ KB\n",
      "None\n"
     ]
    }
   ],
   "source": [
    "print(df.head())\n",
    "print(df.info())"
   ]
  },
  {
   "cell_type": "markdown",
   "id": "cdc0f60c",
   "metadata": {},
   "source": [
    "**No null value !!**"
   ]
  },
  {
   "cell_type": "code",
   "execution_count": 179,
   "id": "6c2b378e",
   "metadata": {},
   "outputs": [
    {
     "data": {
      "text/plain": [
       "<AxesSubplot:>"
      ]
     },
     "execution_count": 179,
     "metadata": {},
     "output_type": "execute_result"
    },
    {
     "data": {
      "image/png": "[encoded data removed]",
      "text/plain": [
       "<Figure size 432x288 with 1 Axes>"
      ]
     },
     "metadata": {
      "needs_background": "light"
     },
     "output_type": "display_data"
    }
   ],
   "source": [
    "df.boxplot()"
   ]
  },
  {
   "cell_type": "code",
   "execution_count": 180,
   "id": "5b0f70a2",
   "metadata": {},
   "outputs": [],
   "source": [
    "X = df[[\"x1\",\"x2\",\"x3\",\"x4\",\"x5\"]]\n",
    "y = df[\"y\"]"
   ]
  },
  {
   "cell_type": "code",
   "execution_count": 181,
   "id": "aadfe127",
   "metadata": {},
   "outputs": [
    {
     "data": {
      "text/plain": [
       "<AxesSubplot:>"
      ]
     },
     "execution_count": 181,
     "metadata": {},
     "output_type": "execute_result"
    },
    {
     "data": {
      "image/png": "[encoded data removed]",
      "text/plain": [
       "<Figure size 432x288 with 1 Axes>"
      ]
     },
     "metadata": {
      "needs_background": "light"
     },
     "output_type": "display_data"
    }
   ],
   "source": [
    "def drop_outlier(x):\n",
    "    return x[(x < x.quantile(0.75) + 1.5*(x.quantile(0.75) - x.quantile(0.25))) & (x > x.quantile(0.25) - 1.5*(x.quantile(0.75) - x.quantile(0.25)))]\n",
    "def cap_outlier(x):\n",
    "    return x.clip(x.quantile(0.25) - 1.5*(x.quantile(0.75) - x.quantile(0.25)), x.quantile(0.75) + 1.5*(x.quantile(0.75) - x.quantile(0.25)))\n",
    "X = X.apply(cap_outlier)\n",
    "X.boxplot()\n"
   ]
  },
  {
   "cell_type": "code",
   "execution_count": 182,
   "id": "4a55abd7",
   "metadata": {},
   "outputs": [
    {
     "data": {
      "text/plain": [
       "Index(['x1', 'x2', 'x3', 'x4', 'x5'], dtype='object')"
      ]
     },
     "execution_count": 182,
     "metadata": {},
     "output_type": "execute_result"
    }
   ],
   "source": [
    "X.columns"
   ]
  },
  {
   "cell_type": "markdown",
   "id": "98106cb7",
   "metadata": {},
   "source": [
    "**step: 4**\n",
    "  \n",
    "  step: 4.1"
   ]
  },
  {
   "cell_type": "code",
   "execution_count": 183,
   "id": "53f806bc",
   "metadata": {},
   "outputs": [],
   "source": [
    "envs={}\n",
    "envs[\"LR\"] = LogisticRegression(solver='lbfgs', max_iter=1000)\n",
    "envs[\"DT\"] = DecisionTreeClassifier()\n",
    "envs[\"NB\"] = GaussianNB()\n",
    "envs[\"KNN (k3)\"] = KNeighborsClassifier(n_neighbors=3)\n",
    "envs[\"KNN (k5)\"] = KNeighborsClassifier(n_neighbors=5) \n",
    "envs[\"KNN (k7)\"] = KNeighborsClassifier(n_neighbors=7) \n",
    "envs[\"ANN (h10)\"] = MLPClassifier(hidden_layer_sizes=(10,), activation='logistic', max_iter=5000)\n",
    "envs[\"ANN (h100)\"] = MLPClassifier(hidden_layer_sizes=(100,), activation='logistic', max_iter=5000)"
   ]
  },
  {
   "cell_type": "code",
   "execution_count": 184,
   "id": "4681fc86",
   "metadata": {},
   "outputs": [
    {
     "data": {
      "text/html": [
       "<div>\n",
       "<style scoped>\n",
       "    .dataframe tbody tr th:only-of-type {\n",
       "        vertical-align: middle;\n",
       "    }\n",
       "\n",
       "    .dataframe tbody tr th {\n",
       "        vertical-align: top;\n",
       "    }\n",
       "\n",
       "    .dataframe thead th {\n",
       "        text-align: right;\n",
       "    }\n",
       "</style>\n",
       "<table border=\"1\" class=\"dataframe\">\n",
       "  <thead>\n",
       "    <tr style=\"text-align: right;\">\n",
       "      <th></th>\n",
       "      <th>x1</th>\n",
       "      <th>x2</th>\n",
       "      <th>x3</th>\n",
       "      <th>x4</th>\n",
       "      <th>x5</th>\n",
       "    </tr>\n",
       "  </thead>\n",
       "  <tbody>\n",
       "    <tr>\n",
       "      <th>0</th>\n",
       "      <td>26</td>\n",
       "      <td>-57</td>\n",
       "      <td>9</td>\n",
       "      <td>64</td>\n",
       "      <td>60</td>\n",
       "    </tr>\n",
       "    <tr>\n",
       "      <th>1</th>\n",
       "      <td>89</td>\n",
       "      <td>-150</td>\n",
       "      <td>135</td>\n",
       "      <td>293</td>\n",
       "      <td>190</td>\n",
       "    </tr>\n",
       "    <tr>\n",
       "      <th>2</th>\n",
       "      <td>68</td>\n",
       "      <td>-122</td>\n",
       "      <td>206</td>\n",
       "      <td>351</td>\n",
       "      <td>194</td>\n",
       "    </tr>\n",
       "    <tr>\n",
       "      <th>3</th>\n",
       "      <td>128</td>\n",
       "      <td>-146</td>\n",
       "      <td>-109</td>\n",
       "      <td>-3</td>\n",
       "      <td>69</td>\n",
       "    </tr>\n",
       "    <tr>\n",
       "      <th>4</th>\n",
       "      <td>114</td>\n",
       "      <td>-171</td>\n",
       "      <td>164</td>\n",
       "      <td>343</td>\n",
       "      <td>214</td>\n",
       "    </tr>\n",
       "    <tr>\n",
       "      <th>5</th>\n",
       "      <td>-121</td>\n",
       "      <td>34</td>\n",
       "      <td>168</td>\n",
       "      <td>181</td>\n",
       "      <td>82</td>\n",
       "    </tr>\n",
       "    <tr>\n",
       "      <th>6</th>\n",
       "      <td>145</td>\n",
       "      <td>-26</td>\n",
       "      <td>28</td>\n",
       "      <td>36</td>\n",
       "      <td>-24</td>\n",
       "    </tr>\n",
       "    <tr>\n",
       "      <th>7</th>\n",
       "      <td>-156</td>\n",
       "      <td>-37</td>\n",
       "      <td>-167</td>\n",
       "      <td>-132</td>\n",
       "      <td>49</td>\n",
       "    </tr>\n",
       "    <tr>\n",
       "      <th>8</th>\n",
       "      <td>-57</td>\n",
       "      <td>-166</td>\n",
       "      <td>65</td>\n",
       "      <td>252</td>\n",
       "      <td>247</td>\n",
       "    </tr>\n",
       "    <tr>\n",
       "      <th>9</th>\n",
       "      <td>-156</td>\n",
       "      <td>-148</td>\n",
       "      <td>-16</td>\n",
       "      <td>156</td>\n",
       "      <td>239</td>\n",
       "    </tr>\n",
       "  </tbody>\n",
       "</table>\n",
       "</div>"
      ],
      "text/plain": [
       "    x1   x2   x3   x4   x5\n",
       "0   26  -57    9   64   60\n",
       "1   89 -150  135  293  190\n",
       "2   68 -122  206  351  194\n",
       "3  128 -146 -109   -3   69\n",
       "4  114 -171  164  343  214\n",
       "5 -121   34  168  181   82\n",
       "6  145  -26   28   36  -24\n",
       "7 -156  -37 -167 -132   49\n",
       "8  -57 -166   65  252  247\n",
       "9 -156 -148  -16  156  239"
      ]
     },
     "execution_count": 184,
     "metadata": {},
     "output_type": "execute_result"
    }
   ],
   "source": [
    "dfTest_OG = pd.read_csv('C-test.csv')\n",
    "x_test_og = dfTest_OG[['x1', 'x2', 'x3', 'x4', 'x5']]\n",
    "x_test_og"
   ]
  },
  {
   "cell_type": "code",
   "execution_count": 185,
   "id": "0157bc87",
   "metadata": {},
   "outputs": [],
   "source": [
    "env_results = {} # for storing results\n",
    "\n",
    "for env_name in envs.keys():\n",
    "\n",
    "  acc_list = [] # for storing accuracy in each fold \n",
    "\n",
    "  #  step: 4.2\n",
    "  kf = KFold(n_splits=4)\n",
    "\n",
    "  for train_index, test_index in kf.split(X):\n",
    "    #  step: 4.2.1\n",
    "    X_train, X_test = X.loc[train_index], X.loc[test_index]\n",
    "    y_train, y_test = y[train_index], y[test_index]\n",
    "\n",
    "    #  step: 4.2.2 (n/a)\n",
    "\n",
    "    #  step: 4.2.3\n",
    "    model = envs[env_name].fit(X_train, y_train)\n",
    "\n",
    "    #  step: 4.2.4\n",
    "    y_pred = model.predict(X_test)\n",
    "\n",
    "    #  step: 4.2.5\n",
    "    acc = accuracy_score(y_test, y_pred)\n",
    "    acc_list.append(acc)\n",
    "\n",
    "  # step: 4.3\n",
    "  acc_mean = np.mean(acc_list)\n",
    "  env_results[env_name] = round(acc_mean,10)"
   ]
  },
  {
   "cell_type": "code",
   "execution_count": 186,
   "id": "7c28023f",
   "metadata": {},
   "outputs": [
    {
     "name": "stdout",
     "output_type": "stream",
     "text": [
      "{'LR': 0.8363253546, 'DT': 0.7525487589, 'NB': 0.7576462766, 'KNN (k3)': 0.8471852837, 'KNN (k5)': 0.8471852837, 'KNN (k7)': 0.842087766, 'ANN (h10)': 0.7788120567, 'ANN (h100)': 0.7945478723}\n"
     ]
    }
   ],
   "source": [
    "print(env_results)"
   ]
  },
  {
   "cell_type": "markdown",
   "id": "51684665",
   "metadata": {},
   "source": [
    "**step: 6**\n"
   ]
  },
  {
   "cell_type": "code",
   "execution_count": 187,
   "id": "5a780504",
   "metadata": {},
   "outputs": [],
   "source": [
    "model = envs['KNN (k3)'].fit(X,y)"
   ]
  },
  {
   "cell_type": "markdown",
   "id": "e9652c9f",
   "metadata": {},
   "source": [
    "**step7**"
   ]
  },
  {
   "cell_type": "code",
   "execution_count": 188,
   "id": "5ddfadc5",
   "metadata": {},
   "outputs": [],
   "source": [
    "import pickle"
   ]
  },
  {
   "cell_type": "code",
   "execution_count": 189,
   "id": "0e04abad",
   "metadata": {},
   "outputs": [],
   "source": [
    "filename = 'clf.model'\n",
    "pickle.dump(model, open(filename, 'wb'))"
   ]
  },
  {
   "cell_type": "code",
   "execution_count": 190,
   "id": "38fda12b",
   "metadata": {},
   "outputs": [
    {
     "data": {
      "text/plain": [
       "array(['B', 'B', 'C', 'A', 'B', 'A', 'C', 'B', 'A', 'B'], dtype=object)"
      ]
     },
     "execution_count": 190,
     "metadata": {},
     "output_type": "execute_result"
    }
   ],
   "source": [
    "y_pred = model.predict(x_test_og)\n",
    "y_pred"
   ]
  },
  {
   "cell_type": "markdown",
   "id": "e99c477d",
   "metadata": {},
   "source": [
    "---"
   ]
  }
 ],
 "metadata": {
  "kernelspec": {
   "display_name": "Python 3",
   "language": "python",
   "name": "python3"
  },
  "language_info": {
   "codemirror_mode": {
    "name": "ipython",
    "version": 3
   },
   "file_extension": ".py",
   "mimetype": "text/x-python",
   "name": "python",
   "nbconvert_exporter": "python",
   "pygments_lexer": "ipython3",
   "version": "3.8.8"
  }
 },
 "nbformat": 4,
 "nbformat_minor": 5
}
