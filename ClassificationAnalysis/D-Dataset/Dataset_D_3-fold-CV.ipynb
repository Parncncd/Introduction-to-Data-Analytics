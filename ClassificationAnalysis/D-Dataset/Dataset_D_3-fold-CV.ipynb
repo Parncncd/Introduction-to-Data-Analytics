{
 "cells": [
  {
   "cell_type": "markdown",
   "id": "4233dc99",
   "metadata": {},
   "source": [
    "# Classification Analysis"
   ]
  },
  {
   "cell_type": "markdown",
   "id": "4e5f144b",
   "metadata": {},
   "source": [
    "*Instructions*\n",
    "จงทำนายค่าจากข้อมูลต่อไปนี้\n",
    "ข้อมูลอยู่ใน google drive (เข้าดูด้วย KMITL Account) https://drive.google.com/drive/u/2/folders/15NgSBbLC9iNCf_fRHZHOm3nuwkzv8fcP\n",
    "\n",
    "ข้อมูลมี 2 ชุด คือ C กับ D\n",
    "\n",
    "ช้อมูลชุด C\n",
    "ไฟล์ C-train.csv เป็นชุดสำหรับ training\n",
    "ไฟล์ C-test.csv เป็นชุดข้อมูลสำหรับ test เพื่อพยากรณ์หาค่า y คือ C_01, C_02, ...., C_10\n",
    "ช้อมูลชุด D\n",
    "ไฟล์ D-train.csv เป็นชุดสำหรับ training\n",
    "ไฟล์ D-test.csv เป็นชุดข้อมูลสำหรับ test เพื่อพยากรณ์หาค่า y คือ D_01, D_02, ...., D_10\n",
    "\n",
    "จากนั้นให้นำผลลัพธ์ที่ทำนายได้ไปกรอกใน Google Form \n",
    "ที่: https://forms.gle/Cdjt4qdizWJozk9r5\n",
    "\n",
    "การให้คะแนน\n",
    "ให้คะแนนตามความถูกต้องของการแบ่งประเภท (correct classification)\n",
    "เนื่องจากมีข้อมูล 2 ชุด ดั้งนั้น จะได้คะแนนที่มากที่สุดจาก C กับ D\n",
    "กล่าวคือ ถ้าได้คะแนนของ C เป็น 2 คะแนน แต่ ได้คะแนนของ D เป็น 8 คะแนน\n",
    "งานชุดนี้จะได้ max(2, 8) คือ 8 คะแนน"
   ]
  },
  {
   "cell_type": "markdown",
   "id": "617800bd",
   "metadata": {},
   "source": [
    "## Dataset D"
   ]
  },
  {
   "cell_type": "code",
   "execution_count": 37,
   "id": "b310142f",
   "metadata": {},
   "outputs": [],
   "source": [
    "import pandas as pd\n",
    "import numpy as np\n",
    "\n",
    "from sklearn.tree import DecisionTreeClassifier\n",
    "from sklearn.linear_model import LogisticRegression\n",
    "\n",
    "from sklearn.naive_bayes import GaussianNB\n",
    "from sklearn.neighbors import KNeighborsClassifier\n",
    "from sklearn.neural_network import MLPClassifier\n",
    "\n",
    "from sklearn.model_selection import KFold\n",
    "\n",
    "from sklearn.metrics import accuracy_score\n",
    "df_OG= pd.read_csv('D-train.csv')"
   ]
  },
  {
   "cell_type": "code",
   "execution_count": 38,
   "id": "2ea4d579",
   "metadata": {},
   "outputs": [
    {
     "data": {
      "text/plain": [
       "array(['B', 'A', 'C'], dtype=object)"
      ]
     },
     "execution_count": 38,
     "metadata": {},
     "output_type": "execute_result"
    }
   ],
   "source": [
    "df_OG.y.unique()"
   ]
  },
  {
   "cell_type": "code",
   "execution_count": 39,
   "id": "937b9e29",
   "metadata": {},
   "outputs": [],
   "source": [
    "df = df_OG"
   ]
  },
  {
   "cell_type": "code",
   "execution_count": 40,
   "id": "bba7719f",
   "metadata": {},
   "outputs": [
    {
     "name": "stdout",
     "output_type": "stream",
     "text": [
      "      x1     x2     x3     x4    x5  y\n",
      "0   3.29  13.54   9.40  12.62  1.95  B\n",
      "1 -10.87  24.20  24.09  23.96  0.11  B\n",
      "2 -20.62  32.28  32.31  33.47 -1.30  B\n",
      "3   3.01   0.44  19.68  -8.05  2.38  A\n",
      "4   7.53   2.31   4.71  -0.88  2.25  B\n",
      "<class 'pandas.core.frame.DataFrame'>\n",
      "RangeIndex: 190 entries, 0 to 189\n",
      "Data columns (total 6 columns):\n",
      " #   Column  Non-Null Count  Dtype  \n",
      "---  ------  --------------  -----  \n",
      " 0   x1      190 non-null    float64\n",
      " 1   x2      190 non-null    float64\n",
      " 2   x3      190 non-null    float64\n",
      " 3   x4      190 non-null    float64\n",
      " 4   x5      190 non-null    float64\n",
      " 5   y       190 non-null    object \n",
      "dtypes: float64(5), object(1)\n",
      "memory usage: 9.0+ KB\n",
      "None\n"
     ]
    }
   ],
   "source": [
    "print(df.head())\n",
    "print(df.info())"
   ]
  },
  {
   "cell_type": "markdown",
   "id": "de2354e0",
   "metadata": {},
   "source": [
    "**No null value !!**"
   ]
  },
  {
   "cell_type": "code",
   "execution_count": 41,
   "id": "2fe32249",
   "metadata": {},
   "outputs": [
    {
     "data": {
      "text/plain": [
       "<AxesSubplot:>"
      ]
     },
     "execution_count": 41,
     "metadata": {},
     "output_type": "execute_result"
    },
    {
     "data": {
      "image/png": "[encoded data removed]",
      "text/plain": [
       "<Figure size 432x288 with 1 Axes>"
      ]
     },
     "metadata": {
      "needs_background": "light"
     },
     "output_type": "display_data"
    }
   ],
   "source": [
    "df.boxplot()"
   ]
  },
  {
   "cell_type": "code",
   "execution_count": 42,
   "id": "ddb0b22d",
   "metadata": {},
   "outputs": [],
   "source": [
    "X = df[[\"x1\",\"x2\",\"x3\",\"x4\",\"x5\"]]\n",
    "y = df[\"y\"]"
   ]
  },
  {
   "cell_type": "code",
   "execution_count": 43,
   "id": "dc79c3fa",
   "metadata": {},
   "outputs": [
    {
     "data": {
      "text/plain": [
       "<AxesSubplot:>"
      ]
     },
     "execution_count": 43,
     "metadata": {},
     "output_type": "execute_result"
    },
    {
     "data": {
      "image/png": "[encoded data removed]",
      "text/plain": [
       "<Figure size 432x288 with 1 Axes>"
      ]
     },
     "metadata": {
      "needs_background": "light"
     },
     "output_type": "display_data"
    }
   ],
   "source": [
    "def drop_outlier(x):\n",
    "    return x[(x < x.quantile(0.75) + 1.5*(x.quantile(0.75) - x.quantile(0.25))) & (x > x.quantile(0.25) - 1.5*(x.quantile(0.75) - x.quantile(0.25)))]\n",
    "def cap_outlier(x):\n",
    "    return x.clip(x.quantile(0.25) - 1.5*(x.quantile(0.75) - x.quantile(0.25)), x.quantile(0.75) + 1.5*(x.quantile(0.75) - x.quantile(0.25)))\n",
    "X = X.apply(cap_outlier)\n",
    "X.boxplot()\n"
   ]
  },
  {
   "cell_type": "markdown",
   "id": "ab241c4f",
   "metadata": {},
   "source": [
    "**step: 4**\n",
    "  \n",
    "  step: 4.1"
   ]
  },
  {
   "cell_type": "code",
   "execution_count": 44,
   "id": "cc5ce007",
   "metadata": {},
   "outputs": [],
   "source": [
    "envs={}\n",
    "envs[\"LR\"] = LogisticRegression(solver='lbfgs', max_iter=1000)\n",
    "envs[\"DT\"] = DecisionTreeClassifier()\n",
    "envs[\"NB\"] = GaussianNB()\n",
    "envs[\"KNN (k3)\"] = KNeighborsClassifier(n_neighbors=3)\n",
    "envs[\"KNN (k5)\"] = KNeighborsClassifier(n_neighbors=5)\n",
    "envs[\"ANN (h10)\"] = MLPClassifier(hidden_layer_sizes=(10,), activation='logistic', max_iter=5000)\n",
    "envs[\"ANN (h100)\"] = MLPClassifier(hidden_layer_sizes=(100,), activation='logistic', max_iter=5000)"
   ]
  },
  {
   "cell_type": "code",
   "execution_count": 45,
   "id": "d0426668",
   "metadata": {},
   "outputs": [
    {
     "data": {
      "text/html": [
       "<div>\n",
       "<style scoped>\n",
       "    .dataframe tbody tr th:only-of-type {\n",
       "        vertical-align: middle;\n",
       "    }\n",
       "\n",
       "    .dataframe tbody tr th {\n",
       "        vertical-align: top;\n",
       "    }\n",
       "\n",
       "    .dataframe thead th {\n",
       "        text-align: right;\n",
       "    }\n",
       "</style>\n",
       "<table border=\"1\" class=\"dataframe\">\n",
       "  <thead>\n",
       "    <tr style=\"text-align: right;\">\n",
       "      <th></th>\n",
       "      <th>x1</th>\n",
       "      <th>x2</th>\n",
       "      <th>x3</th>\n",
       "      <th>x4</th>\n",
       "      <th>x5</th>\n",
       "    </tr>\n",
       "  </thead>\n",
       "  <tbody>\n",
       "    <tr>\n",
       "      <th>0</th>\n",
       "      <td>13.87</td>\n",
       "      <td>-1.59</td>\n",
       "      <td>-9.22</td>\n",
       "      <td>-1.92</td>\n",
       "      <td>2.49</td>\n",
       "    </tr>\n",
       "    <tr>\n",
       "      <th>1</th>\n",
       "      <td>39.41</td>\n",
       "      <td>-10.24</td>\n",
       "      <td>3.14</td>\n",
       "      <td>-24.40</td>\n",
       "      <td>9.37</td>\n",
       "    </tr>\n",
       "    <tr>\n",
       "      <th>2</th>\n",
       "      <td>-0.98</td>\n",
       "      <td>-6.98</td>\n",
       "      <td>-12.01</td>\n",
       "      <td>-3.83</td>\n",
       "      <td>-1.44</td>\n",
       "    </tr>\n",
       "    <tr>\n",
       "      <th>3</th>\n",
       "      <td>-4.39</td>\n",
       "      <td>-22.38</td>\n",
       "      <td>4.94</td>\n",
       "      <td>-29.28</td>\n",
       "      <td>-1.25</td>\n",
       "    </tr>\n",
       "    <tr>\n",
       "      <th>4</th>\n",
       "      <td>-8.66</td>\n",
       "      <td>-5.71</td>\n",
       "      <td>14.59</td>\n",
       "      <td>-10.83</td>\n",
       "      <td>-1.00</td>\n",
       "    </tr>\n",
       "    <tr>\n",
       "      <th>5</th>\n",
       "      <td>2.20</td>\n",
       "      <td>9.24</td>\n",
       "      <td>-5.77</td>\n",
       "      <td>13.47</td>\n",
       "      <td>0.30</td>\n",
       "    </tr>\n",
       "    <tr>\n",
       "      <th>6</th>\n",
       "      <td>-8.28</td>\n",
       "      <td>-5.53</td>\n",
       "      <td>20.95</td>\n",
       "      <td>-13.24</td>\n",
       "      <td>-0.36</td>\n",
       "    </tr>\n",
       "    <tr>\n",
       "      <th>7</th>\n",
       "      <td>-15.23</td>\n",
       "      <td>25.83</td>\n",
       "      <td>20.04</td>\n",
       "      <td>28.76</td>\n",
       "      <td>-1.23</td>\n",
       "    </tr>\n",
       "    <tr>\n",
       "      <th>8</th>\n",
       "      <td>-23.17</td>\n",
       "      <td>-18.72</td>\n",
       "      <td>-6.80</td>\n",
       "      <td>-15.12</td>\n",
       "      <td>-6.61</td>\n",
       "    </tr>\n",
       "    <tr>\n",
       "      <th>9</th>\n",
       "      <td>13.27</td>\n",
       "      <td>16.44</td>\n",
       "      <td>6.65</td>\n",
       "      <td>14.83</td>\n",
       "      <td>4.18</td>\n",
       "    </tr>\n",
       "  </tbody>\n",
       "</table>\n",
       "</div>"
      ],
      "text/plain": [
       "      x1     x2     x3     x4    x5\n",
       "0  13.87  -1.59  -9.22  -1.92  2.49\n",
       "1  39.41 -10.24   3.14 -24.40  9.37\n",
       "2  -0.98  -6.98 -12.01  -3.83 -1.44\n",
       "3  -4.39 -22.38   4.94 -29.28 -1.25\n",
       "4  -8.66  -5.71  14.59 -10.83 -1.00\n",
       "5   2.20   9.24  -5.77  13.47  0.30\n",
       "6  -8.28  -5.53  20.95 -13.24 -0.36\n",
       "7 -15.23  25.83  20.04  28.76 -1.23\n",
       "8 -23.17 -18.72  -6.80 -15.12 -6.61\n",
       "9  13.27  16.44   6.65  14.83  4.18"
      ]
     },
     "execution_count": 45,
     "metadata": {},
     "output_type": "execute_result"
    }
   ],
   "source": [
    "dfTest_OG = pd.read_csv('D-test.csv')\n",
    "x_test_og = dfTest_OG[['x1', 'x2', 'x3', 'x4', 'x5']]\n",
    "x_test_og"
   ]
  },
  {
   "cell_type": "code",
   "execution_count": 46,
   "id": "dba9771f",
   "metadata": {},
   "outputs": [],
   "source": [
    "env_results = {} # for storing results\n",
    "\n",
    "for env_name in envs.keys():\n",
    "\n",
    "  acc_list = [] # for storing accuracy in each fold \n",
    "\n",
    "  #  step: 4.2\n",
    "  kf = KFold(n_splits=3)\n",
    "\n",
    "  for train_index, test_index in kf.split(X):\n",
    "    #  step: 4.2.1\n",
    "    X_train, X_test = X.loc[train_index], X.loc[test_index]\n",
    "    y_train, y_test = y[train_index], y[test_index]\n",
    "\n",
    "    #  step: 4.2.2 (n/a)\n",
    "\n",
    "    #  step: 4.2.3\n",
    "    model = envs[env_name].fit(X_train, y_train)\n",
    "\n",
    "    #  step: 4.2.4\n",
    "    y_pred = model.predict(X_test)\n",
    "\n",
    "    #  step: 4.2.5\n",
    "    acc = accuracy_score(y_test, y_pred)\n",
    "    acc_list.append(acc)\n",
    "\n",
    "  # step: 4.3\n",
    "  acc_mean = np.mean(acc_list)\n",
    "  env_results[env_name] = round(acc_mean,5)"
   ]
  },
  {
   "cell_type": "code",
   "execution_count": 47,
   "id": "be3f04e0",
   "metadata": {},
   "outputs": [
    {
     "name": "stdout",
     "output_type": "stream",
     "text": [
      "{'LR': 0.83697, 'DT': 0.77397, 'NB': 0.79481, 'KNN (k3)': 0.78943, 'KNN (k5)': 0.78431, 'ANN (h10)': 0.81572, 'ANN (h100)': 0.81572}\n"
     ]
    }
   ],
   "source": [
    "print(env_results)"
   ]
  },
  {
   "cell_type": "markdown",
   "id": "5f66ab6f",
   "metadata": {},
   "source": [
    "**step: 6**\n"
   ]
  },
  {
   "cell_type": "code",
   "execution_count": 48,
   "id": "45d90a0a",
   "metadata": {},
   "outputs": [],
   "source": [
    "model = envs['LR'].fit(X,y)"
   ]
  },
  {
   "cell_type": "markdown",
   "id": "bb324b37",
   "metadata": {},
   "source": [
    "**step7**"
   ]
  },
  {
   "cell_type": "code",
   "execution_count": 49,
   "id": "e125be17",
   "metadata": {},
   "outputs": [
    {
     "data": {
      "text/plain": [
       "array(['A', 'A', 'C', 'C', 'C', 'B', 'C', 'B', 'C', 'B'], dtype=object)"
      ]
     },
     "execution_count": 49,
     "metadata": {},
     "output_type": "execute_result"
    }
   ],
   "source": [
    "y_pred = model.predict(x_test_og)\n",
    "y_pred"
   ]
  }
 ],
 "metadata": {
  "kernelspec": {
   "display_name": "Python 3",
   "language": "python",
   "name": "python3"
  },
  "language_info": {
   "codemirror_mode": {
    "name": "ipython",
    "version": 3
   },
   "file_extension": ".py",
   "mimetype": "text/x-python",
   "name": "python",
   "nbconvert_exporter": "python",
   "pygments_lexer": "ipython3",
   "version": "3.8.8"
  }
 },
 "nbformat": 4,
 "nbformat_minor": 5
}
