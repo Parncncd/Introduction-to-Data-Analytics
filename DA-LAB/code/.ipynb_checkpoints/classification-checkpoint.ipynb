{
 "cells": [
  {
   "cell_type": "markdown",
   "metadata": {
    "colab_type": "text",
    "id": "view-in-github"
   },
   "source": [
    "<a href=\"https://colab.research.google.com/github/Rathachai/DA-LAB/blob/gh-pages/code/CH-07/classification.ipynb\" target=\"_parent\"><img src=\"https://colab.research.google.com/assets/colab-badge.svg\" alt=\"Open In Colab\"/></a>"
   ]
  },
  {
   "cell_type": "markdown",
   "metadata": {
    "id": "LS3gSdXjR3aL"
   },
   "source": [
    "# Data Analytics Book : CODE\n",
    "\n",
    "**ISBN** : 978-616-338-169-9\n",
    "\n",
    "**Author** : Rathachai Chawuthai\n",
    "\n",
    "**Year** : 2022\n",
    "\n",
    "**Copyright** © by KMITL\n",
    "\n",
    "**Link** : https://github.com/Rathachai/DA-LAB\n",
    "\n",
    "\n",
    "\n",
    "---\n"
   ]
  },
  {
   "cell_type": "markdown",
   "metadata": {
    "id": "Ny2WYJEyR9WI"
   },
   "source": [
    "## **Chapter 7 : Classification Analytics**\n",
    "\n",
    "\n",
    "---"
   ]
  },
  {
   "cell_type": "markdown",
   "metadata": {
    "id": "I_Bf484sSATP"
   },
   "source": [
    "### Classification"
   ]
  },
  {
   "cell_type": "code",
   "execution_count": 11,
   "metadata": {
    "id": "mpnqhWC1R05F"
   },
   "outputs": [],
   "source": [
    "import numpy as np\n",
    "import pandas as pd\n",
    "\n",
    "from sklearn.tree import DecisionTreeClassifier\n",
    "from sklearn.linear_model import LogisticRegression\n",
    "\n",
    "from sklearn.naive_bayes import GaussianNB\n",
    "from sklearn.neighbors import KNeighborsClassifier\n",
    "from sklearn.neural_network import MLPClassifier\n",
    "\n",
    "from sklearn.model_selection import KFold\n",
    "\n",
    "from sklearn.metrics import accuracy_score"
   ]
  },
  {
   "cell_type": "code",
   "execution_count": 12,
   "metadata": {
    "id": "NXnevHC2SH9n"
   },
   "outputs": [],
   "source": [
    "# step: 1\n",
    "csv_path = \"https://rathachai.github.io/DA-LAB/datasets/simple-veh-class.csv\"\n",
    "df = pd.read_csv(csv_path)"
   ]
  },
  {
   "cell_type": "code",
   "execution_count": 13,
   "metadata": {
    "id": "v54jhvM6SKiL"
   },
   "outputs": [],
   "source": [
    "# step: 2\n",
    "X = df[['weight_kg', 'height_m', 'n_wheels']]\n",
    "y = df['vtype']"
   ]
  },
  {
   "cell_type": "code",
   "execution_count": 14,
   "metadata": {
    "id": "p7RDYIC2SL-t"
   },
   "outputs": [],
   "source": [
    "# step: 3 (n/a)"
   ]
  },
  {
   "cell_type": "code",
   "execution_count": 15,
   "metadata": {
    "id": "EGngFCU5SRr9"
   },
   "outputs": [],
   "source": [
    "# step: 4\n",
    "#  step: 4.1\n",
    "envs={}\n",
    "envs[\"LR\"] = LogisticRegression()\n",
    "envs[\"DT\"] = DecisionTreeClassifier()\n",
    "envs[\"NB\"] = GaussianNB()\n",
    "envs[\"KNN (k3)\"] = KNeighborsClassifier(n_neighbors=3)\n",
    "envs[\"KNN (k5)\"] = KNeighborsClassifier(n_neighbors=5)\n",
    "envs[\"ANN (h10)\"] = MLPClassifier(hidden_layer_sizes=(10,), activation='logistic', max_iter=5000)\n",
    "envs[\"ANN (h100)\"] = MLPClassifier(hidden_layer_sizes=(100,), activation='logistic', max_iter=5000)"
   ]
  },
  {
   "cell_type": "code",
   "execution_count": 16,
   "metadata": {
    "id": "bp12U0HKSUTz"
   },
   "outputs": [],
   "source": [
    "env_results = {} # for storing results\n",
    "\n",
    "for env_name in envs.keys():\n",
    "\n",
    "  acc_list = [] # for storing accuracy in each fold \n",
    "\n",
    "  #  step: 4.2\n",
    "  kf = KFold(n_splits=4)\n",
    "\n",
    "  for train_index, test_index in kf.split(X):\n",
    "\n",
    "    #  step: 4.2.1\n",
    "    X_train, X_test = X.loc[train_index], X.loc[test_index]\n",
    "    y_train, y_test = y[train_index], y[test_index]\n",
    "\n",
    "    #  step: 4.2.2 (n/a)\n",
    "\n",
    "    #  step: 4.2.3\n",
    "    model = envs[env_name].fit(X_train, y_train)\n",
    "\n",
    "    #  step: 4.2.4\n",
    "    y_pred = model.predict(X_test)\n",
    "\n",
    "    #  step: 4.2.5\n",
    "    acc = accuracy_score(y_test, y_pred)\n",
    "    acc_list.append(acc)\n",
    "\n",
    "  # step: 4.3\n",
    "  acc_mean = np.mean(acc_list)\n",
    "  env_results[env_name] = round(acc_mean,3)"
   ]
  },
  {
   "cell_type": "code",
   "execution_count": 17,
   "metadata": {
    "colab": {
     "base_uri": "https://localhost:8080/"
    },
    "id": "jzKTDxgYSXO5",
    "outputId": "dbdfbe35-47a1-4adb-8c4d-f4f0ecfae3b8"
   },
   "outputs": [
    {
     "name": "stdout",
     "output_type": "stream",
     "text": [
      "{'LR': 0.1, 'DT': 1.0, 'NB': 0.95, 'KNN (k3)': 0.85, 'KNN (k5)': 0.6, 'ANN (h10)': 0.05, 'ANN (h100)': 0.7}\n"
     ]
    }
   ],
   "source": [
    "# step: 5\n",
    "print(env_results)"
   ]
  },
  {
   "cell_type": "code",
   "execution_count": 18,
   "metadata": {
    "id": "cXZ8YBsVSY3X"
   },
   "outputs": [],
   "source": [
    "# step: 6\n",
    "model = envs['NB'].fit(X,y)"
   ]
  },
  {
   "cell_type": "code",
   "execution_count": 19,
   "metadata": {
    "id": "5K9LoT8VSbdo"
   },
   "outputs": [],
   "source": [
    "# step: 7\n",
    "import pickle"
   ]
  },
  {
   "cell_type": "code",
   "execution_count": 20,
   "metadata": {
    "id": "lH0CXUVKSc-u"
   },
   "outputs": [],
   "source": [
    "filename = 'clf.model'\n",
    "pickle.dump(model, open(filename, 'wb'))"
   ]
  },
  {
   "cell_type": "markdown",
   "metadata": {
    "id": "vD54xWCQSd4C"
   },
   "source": [
    "\n",
    "\n",
    "---\n",
    "\n"
   ]
  },
  {
   "cell_type": "markdown",
   "metadata": {
    "id": "EmeSshuSShN_"
   },
   "source": [
    "https://rathachai.creatier.pro/"
   ]
  }
 ],
 "metadata": {
  "colab": {
   "authorship_tag": "ABX9TyPwVOPQjyzBt977n7obdaSa",
   "include_colab_link": true,
   "name": "CH-07 DA-BOOK.ipynb",
   "provenance": []
  },
  "kernelspec": {
   "display_name": "Python 3",
   "language": "python",
   "name": "python3"
  },
  "language_info": {
   "codemirror_mode": {
    "name": "ipython",
    "version": 3
   },
   "file_extension": ".py",
   "mimetype": "text/x-python",
   "name": "python",
   "nbconvert_exporter": "python",
   "pygments_lexer": "ipython3",
   "version": "3.8.8"
  }
 },
 "nbformat": 4,
 "nbformat_minor": 1
}
