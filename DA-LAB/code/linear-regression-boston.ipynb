{
 "cells": [
  {
   "cell_type": "markdown",
   "metadata": {
    "colab_type": "text",
    "id": "view-in-github"
   },
   "source": [
    "<a href=\"https://colab.research.google.com/github/Rathachai/DA-LAB/blob/gh-pages/code/CH-06/linear-regression-boston.ipynb\" target=\"_parent\"><img src=\"https://colab.research.google.com/assets/colab-badge.svg\" alt=\"Open In Colab\"/></a>"
   ]
  },
  {
   "cell_type": "markdown",
   "metadata": {
    "id": "HBE8LCaKOyZT"
   },
   "source": [
    "# Data Analytics Book : CODE\n",
    "\n",
    "**ISBN** : 978-616-338-169-9\n",
    "\n",
    "**Author** : Rathachai Chawuthai\n",
    "\n",
    "**Year** : 2022\n",
    "\n",
    "**Copyright** © by KMITL\n",
    "\n",
    "**Link** : https://github.com/Rathachai/DA-LAB\n",
    "\n",
    "\n",
    "\n",
    "---\n"
   ]
  },
  {
   "cell_type": "markdown",
   "metadata": {
    "id": "-g6LdY0qO3SN"
   },
   "source": [
    "## **Chapter 6 : Regression Analytics**\n",
    "\n",
    "\n",
    "---"
   ]
  },
  {
   "cell_type": "markdown",
   "metadata": {
    "id": "Oppd0_IpO-J-"
   },
   "source": [
    "### Boston : Learning\n",
    "\n"
   ]
  },
  {
   "cell_type": "code",
   "execution_count": null,
   "metadata": {
    "colab": {
     "background_save": true
    },
    "id": "BXe5C1AIOvx6"
   },
   "outputs": [],
   "source": [
    "import pandas as pd"
   ]
  },
  {
   "cell_type": "code",
   "execution_count": null,
   "metadata": {
    "colab": {
     "background_save": true
    },
    "id": "m4mZlNP9PC9b"
   },
   "outputs": [],
   "source": [
    "df = pd.read_csv('https://rathachai.github.io/DA-LAB/datasets/boston.csv')"
   ]
  },
  {
   "cell_type": "code",
   "execution_count": null,
   "metadata": {
    "colab": {
     "background_save": true
    },
    "id": "d0uYk3lNPFTX",
    "outputId": "2c6835ab-7559-4f24-cc51-49fc84ac445d"
   },
   "outputs": [
    {
     "data": {
      "text/plain": [
       "lstat     -0.737663\n",
       "ptratio   -0.507787\n",
       "indus     -0.483725\n",
       "tax       -0.468536\n",
       "nox       -0.427321\n",
       "crim      -0.388305\n",
       "rad       -0.381626\n",
       "age       -0.376955\n",
       "chas       0.175260\n",
       "dis        0.249929\n",
       "black      0.333461\n",
       "zn         0.360445\n",
       "rm         0.695360\n",
       "medv       1.000000\n",
       "Name: medv, dtype: float64"
      ]
     },
     "execution_count": null,
     "metadata": {},
     "output_type": "execute_result"
    }
   ],
   "source": [
    "df.corr().sort_values(\"medv\")[\"medv\"]"
   ]
  },
  {
   "cell_type": "code",
   "execution_count": null,
   "metadata": {
    "colab": {
     "background_save": true
    },
    "id": "UL4TOe_wPHok"
   },
   "outputs": [],
   "source": [
    "X = df[[\"lstat\",\"rm\"]]\n",
    "y = df[\"medv\"]"
   ]
  },
  {
   "cell_type": "code",
   "execution_count": null,
   "metadata": {
    "colab": {
     "background_save": true
    },
    "id": "RgaToy6SPKKs"
   },
   "outputs": [],
   "source": [
    "from sklearn.model_selection import KFold\n",
    "from sklearn.preprocessing import StandardScaler\n",
    "from sklearn.linear_model import LinearRegression\n",
    "from sklearn.metrics import mean_squared_error"
   ]
  },
  {
   "cell_type": "code",
   "execution_count": null,
   "metadata": {
    "colab": {
     "background_save": true
    },
    "id": "9KCboamhPOTz"
   },
   "outputs": [],
   "source": [
    "kf = KFold(n_splits=5)"
   ]
  },
  {
   "cell_type": "code",
   "execution_count": null,
   "metadata": {
    "colab": {
     "background_save": true
    },
    "id": "JO1SR8RLPPyz"
   },
   "outputs": [],
   "source": [
    "round_num = 1\n",
    "RMSEs = []"
   ]
  },
  {
   "cell_type": "code",
   "execution_count": null,
   "metadata": {
    "colab": {
     "background_save": true
    },
    "id": "NyRWT4dlPTTQ",
    "outputId": "cb6d7d1d-acf9-489b-95fc-0a50aa7c1964"
   },
   "outputs": [
    {
     "name": "stdout",
     "output_type": "stream",
     "text": [
      "Round 1   RMSE =  3.4334812964064674\n",
      "Round 2   RMSE =  5.38257925986846\n",
      "Round 3   RMSE =  6.916932761257809\n",
      "Round 4   RMSE =  8.471749419076824\n",
      "Round 5   RMSE =  6.050613943678815\n"
     ]
    }
   ],
   "source": [
    "for train_index, test_index in kf.split(X):\n",
    "\n",
    "  X_train, X_test = X.loc[train_index], X.loc[test_index]\n",
    "  y_train, y_test = y.loc[train_index], y.loc[test_index]\n",
    "\n",
    "  scaler = StandardScaler().fit(X_train)\n",
    "  X_train_scaled = scaler.transform(X_train)\n",
    "\n",
    "  model = LinearRegression()\n",
    "  model.fit(X_train_scaled,y_train)\n",
    "\n",
    "  X_test_scaled = scaler.transform(X_test)\n",
    "  y_pred = model.predict(X_test_scaled)\n",
    "\n",
    "  rmse = mean_squared_error(y_test, y_pred, squared=False)\n",
    "\n",
    "  print(\"Round\",round_num, \"  RMSE = \", rmse)\n",
    "  round_num += 1\n",
    "\n",
    "  RMSEs.append(rmse)\n",
    "\n"
   ]
  },
  {
   "cell_type": "code",
   "execution_count": null,
   "metadata": {
    "colab": {
     "background_save": true
    },
    "id": "GBFyxCktPkGo"
   },
   "outputs": [],
   "source": [
    "import numpy as np\n"
   ]
  },
  {
   "cell_type": "code",
   "execution_count": null,
   "metadata": {
    "colab": {
     "background_save": true
    },
    "id": "Aih-1zbcPi6R",
    "outputId": "7d13d30a-42ad-4879-f30c-a958c0c577ea"
   },
   "outputs": [
    {
     "name": "stdout",
     "output_type": "stream",
     "text": [
      "Mean of RMSE =  6.051071336057675\n"
     ]
    }
   ],
   "source": [
    "\n",
    "rmse_mean = np.array(RMSEs).mean()\n",
    "\n",
    "print(\"Mean of RMSE = \", rmse_mean)"
   ]
  }
 ],
 "metadata": {
  "colab": {
   "authorship_tag": "ABX9TyNSiGJxE3LJU1HB+3+hOOAk",
   "include_colab_link": true,
   "name": "CH-03 DA-BOOK.ipynb",
   "provenance": []
  },
  "kernelspec": {
   "display_name": "Python 3",
   "name": "python3"
  },
  "language_info": {
   "name": "python"
  }
 },
 "nbformat": 4,
 "nbformat_minor": 0
}
