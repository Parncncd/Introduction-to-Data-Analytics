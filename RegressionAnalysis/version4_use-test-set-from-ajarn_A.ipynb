{
 "cells": [
  {
   "cell_type": "code",
   "execution_count": 229,
   "metadata": {},
   "outputs": [],
   "source": [
    "import pandas as pd\n",
    "import numpy as np\n",
    "from sklearn.model_selection import train_test_split\n",
    "from sklearn.linear_model import LinearRegression\n",
    "from sklearn.metrics import mean_squared_error\n",
    "from sklearn import metrics\n",
    "from sklearn import preprocessing\n",
    "from sklearn.preprocessing import normalize\n",
    "import seaborn as sns\n",
    "import matplotlib.pyplot as plt"
   ]
  },
  {
   "cell_type": "code",
   "execution_count": 230,
   "metadata": {},
   "outputs": [],
   "source": [
    "a_train = pd.read_csv('https://chananchida-srithongdee.github.io/data/A-train.csv')\n",
    "a_test = pd.read_csv('https://chananchida-srithongdee.github.io/data/A-test.csv')\n"
   ]
  },
  {
   "cell_type": "code",
   "execution_count": 231,
   "metadata": {},
   "outputs": [],
   "source": [
    "a_train = a_train.fillna(a_train.mean())\n",
    "# a_train = a_train.dropna()\n",
    "a_test = a_test.fillna(a_test.mean())\n",
    "# a_test = a_test.dropna()"
   ]
  },
  {
   "cell_type": "code",
   "execution_count": 232,
   "metadata": {},
   "outputs": [],
   "source": [
    "def drop_outlier(x):\n",
    "    return x[(x < x.quantile(0.75) + 1.5*(x.quantile(0.75) - x.quantile(0.25))) & (x > x.quantile(0.25) - 1.5*(x.quantile(0.75) - x.quantile(0.25)))]\n",
    "def cap_outlier(x):\n",
    "    return x.clip(x.quantile(0.25) - 1.5*(x.quantile(0.75) - x.quantile(0.25)), x.quantile(0.75) + 1.5*(x.quantile(0.75) - x.quantile(0.25)))\n",
    "a_train = a_train.apply(drop_outlier)\n",
    "a_train.fillna(a_train.mean(), inplace=True)\n",
    "# a_train = a_train.apply(cap_outlier)"
   ]
  },
  {
   "cell_type": "code",
   "execution_count": 233,
   "metadata": {},
   "outputs": [],
   "source": [
    "X_a = a_train[[\"x3\",\"x8\"]]\n",
    "y_a = a_train[\"y\"]\n",
    "X_test_a = a_test.iloc[:,[2,7]]\n",
    "# X_train_a, X_test_a, y_train_a, y_test_a = train_test_split(X_a, y_a, test_size=0.3, random_state=101)"
   ]
  },
  {
   "cell_type": "code",
   "execution_count": 234,
   "metadata": {},
   "outputs": [
    {
     "data": {
      "text/plain": [
       "LinearRegression()"
      ]
     },
     "execution_count": 234,
     "metadata": {},
     "output_type": "execute_result"
    }
   ],
   "source": [
    "model_a = LinearRegression()\n",
    "model_a.fit(X_a,y_a)"
   ]
  },
  {
   "cell_type": "code",
   "execution_count": 235,
   "metadata": {},
   "outputs": [
    {
     "data": {
      "text/plain": [
       "array([  2.01935281,   2.97489337,   1.81822051,  -2.10123878,\n",
       "         6.99594587,  -1.54827207,  13.40847472, -13.52447951,\n",
       "         3.0148145 ,   8.00413355])"
      ]
     },
     "execution_count": 235,
     "metadata": {},
     "output_type": "execute_result"
    }
   ],
   "source": [
    "y_pred_a = model_a.predict(X_test_a)\n",
    "y_pred_a"
   ]
  },
  {
   "cell_type": "code",
   "execution_count": 236,
   "metadata": {},
   "outputs": [
    {
     "data": {
      "text/plain": [
       "<matplotlib.collections.PathCollection at 0x13e3fc40c10>"
      ]
     },
     "execution_count": 236,
     "metadata": {},
     "output_type": "execute_result"
    },
    {
     "data": {
      "image/png": "[encoded data removed]",
      "text/plain": [
       "<Figure size 432x288 with 1 Axes>"
      ]
     },
     "metadata": {
      "needs_background": "light"
     },
     "output_type": "display_data"
    }
   ],
   "source": [
    "plt.scatter(y_a.iloc[0:10],y_pred_a)"
   ]
  },
  {
   "cell_type": "code",
   "execution_count": 237,
   "metadata": {},
   "outputs": [
    {
     "data": {
      "text/plain": [
       "0.5412308351264277"
      ]
     },
     "execution_count": 237,
     "metadata": {},
     "output_type": "execute_result"
    }
   ],
   "source": [
    "model_a.score(X_a,y_a)"
   ]
  }
 ],
 "metadata": {
  "kernelspec": {
   "display_name": "Python 3.8.8 ('base')",
   "language": "python",
   "name": "python3"
  },
  "language_info": {
   "codemirror_mode": {
    "name": "ipython",
    "version": 3
   },
   "file_extension": ".py",
   "mimetype": "text/x-python",
   "name": "python",
   "nbconvert_exporter": "python",
   "pygments_lexer": "ipython3",
   "version": "3.8.8"
  },
  "orig_nbformat": 4,
  "vscode": {
   "interpreter": {
    "hash": "6ba4831a70bdb4c65f569aebb29d18ac662b0025d32ae6c2b27e0b1d492695c6"
   }
  }
 },
 "nbformat": 4,
 "nbformat_minor": 2
}
